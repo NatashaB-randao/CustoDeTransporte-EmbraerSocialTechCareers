{
 "cells": [
  {
   "cell_type": "code",
   "execution_count": 1,
   "metadata": {},
   "outputs": [
    {
     "name": "stdout",
     "output_type": "stream",
     "text": [
      "Dados do arquivo Banco de dados - Projeto Integrador - BD_real_comercial.csv inseridos com sucesso na tabela BD_real_comercial\n",
      "Dados do arquivo Banco de dados - Projeto Integrador - BD_real_comecial_e_executiva.csv inseridos com sucesso na tabela BD_real_comecial_e_executiva\n",
      "Dados do arquivo Banco de dados - Projeto Integrador - BD_aumentado_comercial.csv inseridos com sucesso na tabela BD_aumentado_comercial\n",
      "Dados do arquivo Banco de dados - Projeto Integrador - BD_aumentado_comercial_exec.csv inseridos com sucesso na tabela BD_aumentado_comercial_exec\n",
      "Dados do arquivo Banco de Dados - Projeto Integrador - BD_País_e_CiaAerea.csv inseridos com sucesso na tabela BD_País_e_CiaAerea\n"
     ]
    }
   ],
   "source": [
    "# SQLAlchemy: Biblioteca em Python para trabalhar com bancos de dados relacionais, oferecendo uma camada de abstração sobre diferentes DBMS.\n",
    "\n",
    "# create_engine: Função do SQLAlchemy para criar uma instância de \"engine\", um objeto que gerencia a conexão com um banco de dados e executa comandos SQL.\n",
    "\n",
    "import mysql.connector\n",
    "from sqlalchemy import create_engine\n",
    "import pandas as pd\n",
    "\n",
    "# Configurações do banco de dados\n",
    "db_config = {\n",
    "    'host': 'localhost',\n",
    "    'user': 'root',\n",
    "    'password': 'natasha57',\n",
    "    'database': 'projetoEmbraer'\n",
    "}\n",
    "\n",
    "# Conectar ao MySQL usando SQLAlchemy\n",
    "engine = create_engine(f\"mysql+mysqlconnector://{db_config['user']}:{db_config['password']}@{db_config['host']}/{db_config['database']}\")\n",
    "\n",
    "# Lista de nomes de arquivos CSV e nomes correspondentes de tabelas\n",
    "mapeamento_arquivos_tabelas = {\n",
    "    'Banco de dados - Projeto Integrador - BD_real_comercial.csv': 'BD_real_comercial',\n",
    "    'Banco de dados - Projeto Integrador - BD_real_comecial_e_executiva.csv': 'BD_real_comecial_e_executiva',\n",
    "    'Banco de dados - Projeto Integrador - BD_aumentado_comercial.csv': 'BD_aumentado_comercial',\n",
    "    'Banco de dados - Projeto Integrador - BD_aumentado_comercial_exec.csv': 'BD_aumentado_comercial_exec',\n",
    "    'Banco de Dados - Projeto Integrador - BD_País_e_CiaAerea.csv': 'BD_País_e_CiaAerea'\n",
    "}\n",
    "\n",
    "# Loop sobre cada arquivo e sua tabela correspondente\n",
    "for nome_arquivo_csv, nome_tabela in mapeamento_arquivos_tabelas.items():\n",
    "    try:\n",
    "        # Ler dados do arquivo CSV usando pandas\n",
    "        dados_csv = pd.read_csv(nome_arquivo_csv)\n",
    "\n",
    "        # Remover espaços extras no nome das colunas\n",
    "        dados_csv.columns = dados_csv.columns.str.strip()\n",
    "\n",
    "        # Criar a tabela no MySQL (se ela não existir)\n",
    "        dados_csv.head(0).to_sql(nome_tabela, con=engine, if_exists='replace', index=False)\n",
    "\n",
    "        # Inserir dados no MySQL\n",
    "        dados_csv.to_sql(nome_tabela, con=engine, if_exists='append', index=False)\n",
    "\n",
    "        # Exibir os dados\n",
    "        print(f'Dados do arquivo {nome_arquivo_csv} inseridos com sucesso na tabela {nome_tabela}')\n",
    "\n",
    "    # Tratamento de exceções específicas.\n",
    "    # Se o arquivo CSV não for encontrado, a exceção FileNotFoundError será capturada.\n",
    "    # A variável 'e' armazena a exceção capturada, permitindo o acesso às informações sobre a exceção.\n",
    "    except FileNotFoundError as e:\n",
    "        print(f\"Erro: Arquivo {nome_arquivo_csv} não encontrado. Verifique o nome do arquivo. Detalhes do erro: {e}\")\n",
    "\n",
    "    # Tratamento de exceções genéricas.\n",
    "    # Se ocorrer qualquer outra exceção, ela será capturada pelo bloco except Exception.\n",
    "    except Exception as e:\n",
    "        print(f\"Erro ao inserir dados do arquivo {nome_arquivo_csv} no MySQL: {e}\")\n",
    "\n",
    "# Bloco finally.\n",
    "# Independentemente de ocorrer uma exceção ou não, o bloco finally é executado.\n",
    "# No caso, é usado para garantir que a conexão com o MySQL seja fechada.\n",
    "    finally:\n",
    "        engine.dispose()  # Fechar a conexão\n"
   ]
  },
  {
   "cell_type": "code",
   "execution_count": 2,
   "metadata": {},
   "outputs": [
    {
     "name": "stdout",
     "output_type": "stream",
     "text": [
      "    Unnamed: 0        País         Cia Aérea\n",
      "0            0     Nigéria  Overland Airways\n",
      "1            1     Irlanda            Aercap\n",
      "2            2      França          Regional\n",
      "3            3   Finlândia           Finnair\n",
      "4            4   Guernesei           Aurigny\n",
      "..         ...         ...               ...\n",
      "80          80      Panamá              Copa\n",
      "81          81  Montenegro        Montenegro\n",
      "82          82       China  Guizhou Colorful\n",
      "83          83       Egito              CIAF\n",
      "84          84   Finlândia           Finnair\n",
      "\n",
      "[85 rows x 3 columns]\n"
     ]
    }
   ],
   "source": [
    "print(dados_csv)"
   ]
  }
 ],
 "metadata": {
  "kernelspec": {
   "display_name": "Python 3",
   "language": "python",
   "name": "python3"
  },
  "language_info": {
   "codemirror_mode": {
    "name": "ipython",
    "version": 3
   },
   "file_extension": ".py",
   "mimetype": "text/x-python",
   "name": "python",
   "nbconvert_exporter": "python",
   "pygments_lexer": "ipython3",
   "version": "3.12.0"
  }
 },
 "nbformat": 4,
 "nbformat_minor": 2
}
